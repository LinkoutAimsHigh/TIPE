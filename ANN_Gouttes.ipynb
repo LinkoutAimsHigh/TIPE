{
 "cells": [
  {
   "cell_type": "markdown",
   "metadata": {},
   "source": [
    "# Using all three"
   ]
  },
  {
   "cell_type": "code",
   "execution_count": 1,
   "metadata": {},
   "outputs": [],
   "source": [
    "import numpy as np\n",
    "from numpy.random import RandomState\n",
    "from sklearn.decomposition import PCA\n",
    "from sklearn.model_selection import train_test_split\n",
    "import os\n",
    "import random as rd\n",
    "from IPython.display import clear_output\n",
    "\n",
    "import matplotlib.pyplot as plt"
   ]
  },
  {
   "cell_type": "code",
   "execution_count": 2,
   "metadata": {},
   "outputs": [],
   "source": [
    "def sigmoid(x):\n",
    "    return 1 / (1 + np.exp(-x))\n",
    "\n",
    "def sigmoid_derivative(x):\n",
    "    return 1 / (np.exp(x)+np.exp(-x)+1)\n",
    "\n",
    "def relu(x):\n",
    "    return np.maximum(0,x)\n",
    "\n",
    "def relu_derivative(x):\n",
    "    return np.where(x>0,1,0)\n",
    "\n",
    "def tanh(x):\n",
    "    return np.tanh(x)\n",
    "\n",
    "def tanh_derivative(x):\n",
    "    return 1-np.tanh(x)**2"
   ]
  },
  {
   "cell_type": "code",
   "execution_count": 3,
   "metadata": {},
   "outputs": [],
   "source": [
    "# Xavier initialization function to not have weight too small that can cause instability\n",
    "def xavier_init(size_in, size_out, random_state = None):\n",
    "    rng = random_state\n",
    "    limit = np.sqrt(6 / (size_in + size_out))\n",
    "    return rng.uniform(-limit, limit, (size_in, size_out))\n",
    "\n",
    "def Loading(tx):\n",
    "    # clear_output(wait=True)\n",
    "    Loadingbar = ''.join([\"=\" if (i < int(tx*100)) else \" \" for i in range(100)])\n",
    "    print(\"[\" + \"\\033[32m\" +  Loadingbar +'\\033[0m' + \"]\")\n",
    "\n",
    "def Accuracy(Nw,X,Y):\n",
    "    predictions = Nw.forward(X)\n",
    "    return round(np.mean((Y -predictions)**2 <= (0.05)**2),2) + 0.01*round(np.mean((Y -predictions)**2 <= (0.02)**2),2) #, np.mean([round(Y[i],1)==round(predictions[i],1) for i in range(len(Y))])"
   ]
  },
  {
   "cell_type": "code",
   "execution_count": 4,
   "metadata": {},
   "outputs": [],
   "source": [
    "class Activation_Function:\n",
    "    \n",
    "    def __init__(self,func,func_derivative, name = None):\n",
    "        self.func = func\n",
    "        self.derivative = func_derivative\n",
    "        self.name = name \n",
    "        \n",
    "\n",
    "\n",
    "class Layer:\n",
    "    def __init__(self,in_size,out_size, random_state = None):\n",
    "        rng = random_state if random_state else np.random #setting the random seed instance for stability and reproductibility\n",
    "        \n",
    "        self.weights = xavier_init(in_size, out_size, random_state = rng)#np.random.randn(in_size,out_size) #xavier_init(in_size, out_size)\n",
    "        self.bias = np.zeros((1,out_size))\n",
    "        #self.delta = np.zeros((19,1))\n",
    "\n",
    "    def Calculate_error(self, out_weights,out_delta,activation_derivative):\n",
    "\n",
    "        self.delta =  out_delta.dot(out_weights.T) * activation_derivative(self.output)\n",
    "        return self.delta\n",
    "\n",
    "    def Calculate_output_error(self,y,output,activation_derivative):\n",
    "        ### Only use if the layer is the output layer (might do a separate func one day)\n",
    "        self.delta = (y-output)*activation_derivative(output)\n",
    "        return self.delta\n",
    "\n",
    "    def update(self,error, inputs, learning_rate):\n",
    "        self.weights += inputs.T.dot(error) * learning_rate\n",
    "        self.bias += np.sum(self.delta, axis=0, keepdims=True) * learning_rate\n",
    "\n",
    "    def forward(self, activation, X):\n",
    "        self.inputs = np.dot(X,self.weights) + self.bias\n",
    "        self.output = activation(self.inputs)\n",
    "        return self.output\n",
    "\n",
    "\n",
    "class Network:\n",
    "    def __init__(self,input_size,hidden_size,output_size,Name = \"Network\", random_state = None,activation = Activation_Function(relu,relu_derivative)):\n",
    "        self.name = Name\n",
    "        self.random_state = random_state\n",
    "        \n",
    "        # Initializing layers\n",
    "        self.hidden_layer = Layer(input_size,hidden_size, random_state = random_state)\n",
    "        self.output_layer = Layer(hidden_size,output_size, random_state = random_state)      \n",
    "\n",
    "        self.out_delta = self.hidden_delta = 0\n",
    "    \n",
    "        self.activation = activation\n",
    "    \n",
    "\n",
    "    def forward(self,X):\n",
    "        self.hidden_layer.forward(self.activation.func,X)\n",
    "\n",
    "        self.output_layer.forward(relu,self.hidden_layer.output)\n",
    "\n",
    "        self.output = self.output_layer.output\n",
    "\n",
    "        return self.output_layer.output\n",
    "    \n",
    "    def loss(self,y,output):\n",
    "        return (y-output)#/(abs(y-output))#**0.5\n",
    "\n",
    "    \n",
    "\n",
    "    def learn(self,X,y,learning_rate,momentum):\n",
    "\n",
    "        #Calculating error\n",
    "        self.out_delta = self.output_layer.Calculate_output_error(y,self.output_layer.output,relu_derivative) + self.out_delta*momentum\n",
    "        self.hidden_delta = self.hidden_layer.Calculate_error(self.output_layer.weights,self.output_layer.delta,self.activation.derivative) + self.hidden_delta*momentum\n",
    "\n",
    "        # Update weights and biases\n",
    "\n",
    "        self.output_layer.update(self.out_delta,self.hidden_layer.output,learning_rate)\n",
    "        self.hidden_layer.update(self.hidden_delta,X,learning_rate)\n",
    "\n",
    "    def train(self,X,y,epochs,learning_rate,momentum,train_steps = 100, Training_Info= True, random_state = None):\n",
    "        History = []\n",
    "        rng = random_state\n",
    "        for epoch in range(epochs):\n",
    "            \n",
    "            self.forward(X)\n",
    "            self.learn(X,y,learning_rate,momentum)\n",
    "\n",
    "            loss = np.mean(np.square(y - self.output))\n",
    "            History.append(loss)   \n",
    "\n",
    "            if Training_Info and epoch % train_steps == 0 :\n",
    "                \n",
    "                clear_output(wait=True)\n",
    "                print(f\"Training {self.name} \\n Epoch  : {epoch} / {epochs} \\n Loss : {loss} \\n Advancement : {epoch/epochs*100} %\")\n",
    "                Loading(epoch/epochs)\n",
    "\n",
    "        if Training_Info:\n",
    "            loss = np.mean(np.square(y - self.output))\n",
    "            clear_output(wait=True)\n",
    "            print(f\"Training {self.name} \\n Epoch  : {epochs} / {epochs} \\n Loss : {loss} \\n Advancement : {100} %\")\n",
    "            Loading(1)\n",
    "        return History\n",
    "        \n",
    "            "
   ]
  },
  {
   "cell_type": "markdown",
   "metadata": {},
   "source": [
    "# Getting good DATA at the beginning"
   ]
  },
  {
   "cell_type": "code",
   "execution_count": 5,
   "metadata": {},
   "outputs": [],
   "source": [
    "Base = \"Text_Data\"\n",
    "\n",
    "Shapes = []\n",
    "DataFrame,LabelFrame = [],[]\n",
    "for file in os.listdir(Base):\n",
    "    df = np.load(Base+ '/'+file)\n",
    "    Shapes.append(df.shape[1])\n",
    "    DataFrame.append(df)\n",
    "    LabelFrame.append([round(float(c.replace(',','.'))/100,3) for c in file[:-4].split()])\n",
    "\n",
    "\n"
   ]
  },
  {
   "cell_type": "markdown",
   "metadata": {},
   "source": [
    "## Normalisation des données"
   ]
  },
  {
   "cell_type": "code",
   "execution_count": 6,
   "metadata": {},
   "outputs": [
    {
     "name": "stdout",
     "output_type": "stream",
     "text": [
      "3096.3333333333335 435\n",
      "21 19 3346.7894736842104 1142\n"
     ]
    },
    {
     "data": {
      "text/plain": [
       "[<matplotlib.lines.Line2D at 0x1dff8797e10>,\n",
       " <matplotlib.lines.Line2D at 0x1dff87a3b90>,\n",
       " <matplotlib.lines.Line2D at 0x1dff87a3ed0>]"
      ]
     },
     "execution_count": 6,
     "metadata": {},
     "output_type": "execute_result"
    },
    {
     "data": {
      "image/png": "[encoded data removed]",
      "text/plain": [
       "<Figure size 640x480 with 1 Axes>"
      ]
     },
     "metadata": {},
     "output_type": "display_data"
    }
   ],
   "source": [
    "print(np.mean(Shapes), min(Shapes))\n",
    "NShapes = Shapes.copy()\n",
    "while min(NShapes)<np.mean(NShapes)/3:\n",
    "    NShapes.pop(np.argmin(NShapes))\n",
    "\n",
    "print(len(Shapes),len(NShapes),np.mean(NShapes),min(NShapes))\n",
    "\n",
    "def ReduceMin(L,fact):\n",
    "    NL = L.copy()\n",
    "    while min(NL)<(np.mean(NL)/fact):\n",
    "        NL.pop(np.argmin(NL))\n",
    "    return len(NL),(np.mean(NL))/np.mean(L)*10, min(NL)/min(L)\n",
    "\n",
    "X = [i/2 for i in range(3,10)]\n",
    "Y = [ReduceMin(Shapes,x) for x in X]\n",
    "\n",
    "plt.plot(X,Y)"
   ]
  },
  {
   "cell_type": "code",
   "execution_count": 7,
   "metadata": {},
   "outputs": [],
   "source": [
    "DelNumb = 3\n",
    "\n",
    "Data,Label = DataFrame.copy(),LabelFrame.copy()\n",
    "\n",
    "Deletor = sorted([(i,Shapes[i]) for i in range(len(Shapes))],key=lambda x : x[1])[:DelNumb]\n",
    "for j,k in sorted(Deletor,reverse=True):\n",
    "    Label.pop(j)\n",
    "    Data.pop(j)\n",
    "\n",
    "#print(np.mean([d.shape[1] for d in Data]),min([d.shape[1] for d in Data]))"
   ]
  },
  {
   "cell_type": "code",
   "execution_count": 8,
   "metadata": {},
   "outputs": [
    {
     "data": {
      "text/plain": [
       "(18, 4)"
      ]
     },
     "execution_count": 8,
     "metadata": {},
     "output_type": "execute_result"
    }
   ],
   "source": [
    "LABELS = np.array(Label)\n",
    "LABELS.shape"
   ]
  },
  {
   "cell_type": "code",
   "execution_count": 9,
   "metadata": {},
   "outputs": [],
   "source": [
    "DATA = []\n",
    "\n",
    "LSNb = min([d.shape[1] for d in Data])\n",
    "\n",
    "for df in Data:\n",
    "    Ndf = np.ndarray((3,LSNb))\n",
    "    \n",
    "    for j,d in enumerate(df) :\n",
    "        Nbo = d.tolist()\n",
    "        Indexes = rd.sample(range(len(Nbo)),LSNb)\n",
    "        Nbn = [Nbo[i] for i in range(len(Nbo)) if i in Indexes]\n",
    "        Ndf[j] = Nbn\n",
    "    DATA.append(Ndf)\n",
    "DATA = np.array(DATA)\n"
   ]
  },
  {
   "cell_type": "markdown",
   "metadata": {},
   "source": [
    "## Transformation des données"
   ]
  },
  {
   "cell_type": "code",
   "execution_count": 10,
   "metadata": {},
   "outputs": [],
   "source": [
    "Datatrain = [{\"name\":\"Number\" },{\"name\":\"Speed\"},{\"name\":\"Excentricity\"}]\n",
    "\n",
    "PCASize = 15\n",
    "\n",
    "TTS = rd.sample(range(len(DATA)),int(len(DATA)*(1-.2)))\n",
    "\n",
    "\n",
    "for i in range(3):\n",
    "    d = DATA[:,i,:]\n",
    "    pca = PCA(PCASize)\n",
    "    pca.fit(d)\n",
    "    dt = pca.transform(d)\n",
    "\n",
    "    Datatrain[i][\"X_train\"],Datatrain[i][\"X_test\"] = np.array([dt[i] for i in range(len(dt)) if i in TTS]), np.array([dt[i] for i in range(len(dt)) if i not in TTS]) #5464021513.2\n",
    "\n",
    "\n"
   ]
  },
  {
   "cell_type": "code",
   "execution_count": 12,
   "metadata": {},
   "outputs": [],
   "source": [
    "Y_train,Y_test = np.array([LABELS[i] for i in range(len(LABELS)) if i in TTS]),np.array([LABELS[i] for i in range(len(LABELS)) if i not in TTS])"
   ]
  },
  {
   "cell_type": "code",
   "execution_count": null,
   "metadata": {},
   "outputs": [],
   "source": [
    "X_train,X_test = [list(Datatrain[0]['X_train'][i]/max(Datatrain[0]['X_train'][i]))+list(Datatrain[1]['X_train'][i]/max(Datatrain[1]['X_train'][i]))+list(Datatrain[2]['X_train'][i]/max(Datatrain[2]['X_train'][i])) for i in range(len(TTS))],[list(Datatrain[0]['X_test'][i])+list(Datatrain[1]['X_test'][i])+list(Datatrain[2]['X_test'][i]) for i in range(len(Datatrain[0]['X_test']))]\n",
    "\n",
    "X_train,X_test = np.array(X_train), np.array(X_test)"
   ]
  },
  {
   "cell_type": "markdown",
   "metadata": {},
   "source": [
    "# ANN"
   ]
  },
  {
   "cell_type": "markdown",
   "metadata": {},
   "source": [
    "## initialisation"
   ]
  },
  {
   "cell_type": "code",
   "execution_count": 14,
   "metadata": {},
   "outputs": [],
   "source": [
    "Organiques = [\"octan1ol\" , \"pentan1ol\" , \"diethyle phtalate\" , \"acide octanoïque\"]\n",
    "\n",
    "Models_val = [0 for i in Organiques]\n",
    "\n",
    "Histories = [None for i in Organiques]"
   ]
  },
  {
   "cell_type": "code",
   "execution_count": 15,
   "metadata": {},
   "outputs": [],
   "source": [
    "Relu,Tan,Sig = Activation_Function(relu,relu_derivative,name='relu'),Activation_Function(tanh,tanh_derivative,name = 'tanh'),Activation_Function(sigmoid,sigmoid_derivative,name = 'sigmoid')"
   ]
  },
  {
   "cell_type": "markdown",
   "metadata": {},
   "source": [
    "## Entraînement"
   ]
  },
  {
   "cell_type": "code",
   "execution_count": 16,
   "metadata": {},
   "outputs": [
    {
     "name": "stdout",
     "output_type": "stream",
     "text": [
      "[\u001b[32m=================================================================================================== \u001b[0m]\n",
      "Testing combination for acide octanoïque: Epochs=5000, Learning Rate=0.001, Momentum=0.8, Activation=relu\n",
      "Best Hyperparameters for acide octanoïque: Epochs=3000, Learning Rate=0.0001, Momentum=0.5, function=sigmoid\n",
      "Best Validation Loss for acide octanoïque: 0.5050\n",
      "\n",
      "Final Best Hyperparameters for Each Compound:\n",
      "octan1ol: Epochs=2000, Learning Rate=0.0001, Momentum=0.8, Validation accuracy=0.7550, h_size=6, function=sigmoid\n",
      "pentan1ol: Epochs=2000, Learning Rate=0.0001, Momentum=0.5, Validation accuracy=0.5050, h_size=3, function=sigmoid\n",
      "diethyle phtalate: Epochs=3000, Learning Rate=0.0001, Momentum=0.2, Validation accuracy=0.7550, h_size=6, function=sigmoid\n",
      "acide octanoïque: Epochs=3000, Learning Rate=0.0001, Momentum=0.5, Validation accuracy=0.5050, h_size=5, function=sigmoid\n"
     ]
    }
   ],
   "source": [
    "from itertools import product\n",
    "#np.random.seed(42)\n",
    "# Hyperparameter ranges\n",
    "i_size,o_size = PCASize*3,1 \n",
    "epoch_options =[1000, 2000, 3000, 5000]#[8000]## [8000, 10000,9000,7000]#, 30000], 35000, 40000]  # Possible values for epochs\n",
    "learning_rate_options = [0.0001, 0.005, 0.001]# 0.01, 0.05, 0.09, 0.1]  # Possible values for learning rates\n",
    "momentum_options = [0.5,0.2, 0.4, 0.6, 0.8]  # Possible values for momentum\n",
    "h_size_options = [3,4,5,6,7] #[6]\n",
    "activation_options = [Tan,Sig,Relu]\n",
    "\n",
    "N_iter =  len(h_size_options)*len(epoch_options)*len(learning_rate_options)*len(momentum_options)*len(activation_options)\n",
    "\n",
    "# Store best parameters and scores for each orga\n",
    "best_params = {}\n",
    "best_scores = {}\n",
    "Models = [0 for i in range(len(Organiques))]\n",
    "# Perform grid search for each compound\n",
    "for i, orga in enumerate(Organiques):\n",
    "    print(f\"\\nTuning hyperparameters for organism: {orga}\")\n",
    "    \n",
    "    best_params[orga] = None\n",
    "    best_scores[orga] = -float('inf')#-float('inf')  # Use 'inf' because we are minimizing the loss\n",
    "    #first = True\n",
    "    # Grid search over all hyperparameter combinations\n",
    "    iteration = 0\n",
    "    for h_size, epochs, learning_rate, momentum,activation in product(h_size_options, epoch_options, learning_rate_options, momentum_options,activation_options):\n",
    "        clear_output(wait=True)\n",
    "        Loading(iteration/N_iter)\n",
    "        print(f\"Testing combination for {orga}: Epochs={epochs}, Learning Rate={learning_rate}, Momentum={momentum}, Activation={activation.name}\")\n",
    "        iteration+=1\n",
    "        #if first:\n",
    "        rng = RandomState(42)\n",
    "        #else:\n",
    "        #rng = np.random\n",
    "        # Initialize and train the model for the current orga\n",
    "        model = Network(input_size=i_size, output_size=o_size, hidden_size=h_size, Name=orga, random_state = rng,activation = activation)\n",
    "        history = model.train(\n",
    "            X_train,\n",
    "            np.array([[Y_train[j][i]] for j in range(len(Y_train))]),\n",
    "            epochs=epochs,\n",
    "            learning_rate=learning_rate,\n",
    "            momentum=momentum,\n",
    "            Training_Info = False,\n",
    "            train_steps=1000, \n",
    "            random_state = rng\n",
    "        )\n",
    "        # Evaluate the model on the validation set\n",
    "        current_accuracy = Accuracy(model,X_test,np.array([[Y_test[j][i]] for j in range(len(Y_test))]))\n",
    "        \n",
    "        \n",
    "            # Keep track of the best hyperparameters for this orga\n",
    "        if current_accuracy > best_scores[orga]:\n",
    "            best_scores[orga] = current_accuracy\n",
    "            best_params[orga] = (epochs, learning_rate, momentum, h_size,activation)\n",
    "            Models[i] = model\n",
    "            first = False\n",
    "    print(f\"Best Hyperparameters for {orga}: Epochs={best_params[orga][0]}, Learning Rate={best_params[orga][1]}, Momentum={best_params[orga][2]}, function={best_params[orga][4].name}\")\n",
    "    print(f\"Best Validation Loss for {orga}: {best_scores[orga]:.4f}\")\n",
    "    \n",
    "# Final results for all orgas\n",
    "print(\"\\nFinal Best Hyperparameters for Each Compound:\")\n",
    "for orga in Organiques:\n",
    "    print(f\"{orga}: Epochs={best_params[orga][0]}, Learning Rate={best_params[orga][1]}, Momentum={best_params[orga][2]}, Validation accuracy={best_scores[orga]:.4f}, h_size={best_params[orga][3]}, function={best_params[orga][4].name}\")\n"
   ]
  },
  {
   "cell_type": "markdown",
   "metadata": {},
   "source": [
    "# Résultats"
   ]
  },
  {
   "cell_type": "code",
   "execution_count": 17,
   "metadata": {},
   "outputs": [
    {
     "name": "stdout",
     "output_type": "stream",
     "text": [
      "[np.float64(0.13), np.float64(0.13), np.float64(0.39), np.float64(0.39)]vs[0.125 0.125 0.375 0.375]\n",
      "[np.float64(0.13), np.float64(0.13), np.float64(0.39), np.float64(0.39)]vs[0.125 0.125 0.375 0.376]\n",
      "[np.float64(0.84), np.float64(1.02), np.float64(0.54), np.float64(1.22)]vs[0.17 0.17 0.49 0.17]\n",
      "[np.float64(0.19), np.float64(0.79), np.float64(0.0), np.float64(1.22)]vs[0.17 0.49 0.17 0.17]\n"
     ]
    },
    {
     "name": "stderr",
     "output_type": "stream",
     "text": [
      "C:\\Users\\arthu\\AppData\\Local\\Temp\\ipykernel_21776\\3540099519.py:2: RuntimeWarning: overflow encountered in exp\n",
      "  return 1 / (1 + np.exp(-x))\n"
     ]
    }
   ],
   "source": [
    "\n",
    "predictions, = np.array([Nw.forward(X_test) for Nw in Models]).T  \n",
    "\n",
    "i=0\n",
    "for pred in predictions:\n",
    "    print(str([round(pd,2) for pd in pred]) + \"vs\" + str(Y_test[i])) \n",
    "    i +=1"
   ]
  },
  {
   "cell_type": "code",
   "execution_count": 18,
   "metadata": {},
   "outputs": [
    {
     "data": {
      "image/png": "[encoded data removed]",
      "text/plain": [
       "<Figure size 640x480 with 1 Axes>"
      ]
     },
     "metadata": {},
     "output_type": "display_data"
    }
   ],
   "source": [
    "for i in range(len(predictions.T)):\n",
    "    plt.scatter(Y_test.T[i],predictions.T[i], marker='x',label = Organiques[i])\n",
    "\n",
    "x = np.linspace(0,1,100)\n",
    "\n",
    "plt.plot(x,x, color = 'red')\n",
    "plt.plot(x[2:],(x-0.05)[2:], '--b')\n",
    "plt.plot(x,x+0.05, '--b')\n",
    "\n",
    "plt.xlim(0,0.85)\n",
    "plt.ylim(0,0.85)\n",
    "\n",
    "plt.ylabel('Prédictions')\n",
    "plt.xlabel('Parties réelles')\n",
    "\n",
    "plt.legend()\n",
    "plt.show()"
   ]
  }
 ],
 "metadata": {
  "kernelspec": {
   "display_name": "SecEnv",
   "language": "python",
   "name": "python3"
  },
  "language_info": {
   "codemirror_mode": {
    "name": "ipython",
    "version": 3
   },
   "file_extension": ".py",
   "mimetype": "text/x-python",
   "name": "python",
   "nbconvert_exporter": "python",
   "pygments_lexer": "ipython3",
   "version": "3.11.11"
  }
 },
 "nbformat": 4,
 "nbformat_minor": 2
}
