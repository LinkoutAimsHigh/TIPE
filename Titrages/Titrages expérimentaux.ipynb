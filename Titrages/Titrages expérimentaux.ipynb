{
 "cells": [
  {
   "cell_type": "code",
   "execution_count": 1,
   "metadata": {},
   "outputs": [],
   "source": [
    "import numpy as np\n",
    "from sklearn.model_selection import train_test_split\n",
    "from sklearn.decomposition import PCA\n",
    "from IPython.display import clear_output\n",
    "import os\n",
    "import matplotlib.pyplot as plt\n",
    "from numpy.random import RandomState"
   ]
  },
  {
   "cell_type": "code",
   "execution_count": 2,
   "metadata": {},
   "outputs": [],
   "source": [
    "def sigmoid(x):\n",
    "    return 1 / (1 + np.exp(-x))\n",
    "\n",
    "def sigmoid_derivative(x):\n",
    "    return 1 / (np.exp(x)+np.exp(-x)+1)\n",
    "\n",
    "def relu(x):\n",
    "    return np.maximum(0,x)\n",
    "\n",
    "def relu_derivative(x):\n",
    "    return np.where(x>0,1,0)\n",
    "\n",
    "def tanh(x):\n",
    "    return np.tanh(x)\n",
    "\n",
    "def tanh_derivative(x):\n",
    "    return 1-np.tanh(x)**2"
   ]
  },
  {
   "cell_type": "code",
   "execution_count": 3,
   "metadata": {},
   "outputs": [],
   "source": [
    "# Xavier initialization function to not have weight too small that can cause instability\n",
    "def xavier_init(size_in, size_out, random_state = None):\n",
    "    rng = random_state\n",
    "    limit = np.sqrt(6 / (size_in + size_out))\n",
    "    return rng.uniform(-limit, limit, (size_in, size_out))\n",
    "\n",
    "def Loading(tx):\n",
    "    # clear_output(wait=True)\n",
    "    Loadingbar = ''.join([\"=\" if (i < int(tx*100)) else \" \" for i in range(100)])\n",
    "    print(\"[\" + \"\\033[32m\" +  Loadingbar +'\\033[0m' + \"]\")\n",
    "\n",
    "def Accuracy(Nw,X,Y):\n",
    "    predictions = Nw.forward(X)\n",
    "    return round(np.mean((Y -predictions)**2 <= (0.05)**2),2) + 0.01*round(np.mean((Y -predictions)**2 <= (0.02)**2),2) #, np.mean([round(Y[i],1)==round(predictions[i],1) for i in range(len(Y))])"
   ]
  },
  {
   "cell_type": "code",
   "execution_count": 4,
   "metadata": {},
   "outputs": [],
   "source": [
    "class Activation_Function:\n",
    "    \n",
    "    def __init__(self,func,func_derivative, name = None):\n",
    "        self.func = func\n",
    "        self.derivative = func_derivative\n",
    "        self.name = name \n",
    "        \n",
    "\n",
    "\n",
    "class Layer:\n",
    "    def __init__(self,in_size,out_size, random_state = None):\n",
    "        rng = random_state if random_state else np.random #setting the random seed instance for stability and reproductibility\n",
    "        \n",
    "        self.weights = xavier_init(in_size, out_size, random_state = rng)#np.random.randn(in_size,out_size) #xavier_init(in_size, out_size)\n",
    "        self.bias = np.zeros((1,out_size))\n",
    "        #self.delta = np.zeros((19,1))\n",
    "\n",
    "    def Calculate_error(self, out_weights,out_delta,activation_derivative):\n",
    "\n",
    "        self.delta =  out_delta.dot(out_weights.T) * activation_derivative(self.output)\n",
    "        return self.delta\n",
    "\n",
    "    def Calculate_output_error(self,y,output,activation_derivative):\n",
    "        ### Only use if the layer is the output layer (might do a separate func one day)\n",
    "        self.delta = (y-output)*activation_derivative(output)\n",
    "        return self.delta\n",
    "\n",
    "    def update(self,error, inputs, learning_rate):\n",
    "        self.weights += inputs.T.dot(error) * learning_rate\n",
    "        self.bias += np.sum(self.delta, axis=0, keepdims=True) * learning_rate\n",
    "\n",
    "    def forward(self, activation, X):\n",
    "        self.inputs = np.dot(X,self.weights) + self.bias\n",
    "        self.output = activation(self.inputs)\n",
    "        return self.output\n",
    "\n",
    "\n",
    "class Network:\n",
    "    def __init__(self,input_size,hidden_size,output_size,Name = \"Network\", random_state = None,activation = Activation_Function(relu,relu_derivative)):\n",
    "        self.name = Name\n",
    "        self.random_state = random_state\n",
    "        \n",
    "        # Initializing layers\n",
    "        self.hidden_layer = Layer(input_size,hidden_size, random_state = random_state)\n",
    "        self.output_layer = Layer(hidden_size,output_size, random_state = random_state)      \n",
    "\n",
    "        self.out_delta = self.hidden_delta = 0\n",
    "    \n",
    "        self.activation = activation\n",
    "    \n",
    "\n",
    "    def forward(self,X):\n",
    "        self.hidden_layer.forward(self.activation.func,X)\n",
    "\n",
    "        self.output_layer.forward(relu,self.hidden_layer.output)\n",
    "\n",
    "        self.output = self.output_layer.output\n",
    "\n",
    "        return self.output_layer.output\n",
    "    \n",
    "    def loss(self,y,output):\n",
    "        return (y-output)#/(abs(y-output))#**0.5\n",
    "\n",
    "    \n",
    "\n",
    "    def learn(self,X,y,learning_rate,momentum):\n",
    "\n",
    "        #Calculating error\n",
    "        self.out_delta = self.output_layer.Calculate_output_error(y,self.output_layer.output,relu_derivative) + self.out_delta*momentum\n",
    "        self.hidden_delta = self.hidden_layer.Calculate_error(self.output_layer.weights,self.output_layer.delta,self.activation.derivative) + self.hidden_delta*momentum\n",
    "\n",
    "        # Update weights and biases\n",
    "\n",
    "        self.output_layer.update(self.out_delta,self.hidden_layer.output,learning_rate)\n",
    "        self.hidden_layer.update(self.hidden_delta,X,learning_rate)\n",
    "\n",
    "    def train(self,X,y,epochs,learning_rate,momentum,train_steps = 100, Training_Info= True, random_state = None):\n",
    "        History = []\n",
    "        rng = random_state\n",
    "        for epoch in range(epochs):\n",
    "            \n",
    "            self.forward(X)\n",
    "            self.learn(X,y,learning_rate,momentum)\n",
    "\n",
    "            loss = np.mean(np.square(y - self.output))\n",
    "            History.append(loss)   \n",
    "\n",
    "            if Training_Info and epoch % train_steps == 0 :\n",
    "                \n",
    "                clear_output(wait=True)\n",
    "                print(f\"Training {self.name} \\n Epoch  : {epoch} / {epochs} \\n Loss : {loss} \\n Advancement : {epoch/epochs*100} %\")\n",
    "                Loading(epoch/epochs)\n",
    "\n",
    "        if Training_Info:\n",
    "            loss = np.mean(np.square(y - self.output))\n",
    "            clear_output(wait=True)\n",
    "            print(f\"Training {self.name} \\n Epoch  : {epochs} / {epochs} \\n Loss : {loss} \\n Advancement : {100} %\")\n",
    "            Loading(1)\n",
    "        return History\n",
    "        \n",
    "            "
   ]
  },
  {
   "cell_type": "markdown",
   "metadata": {},
   "source": [
    "# Extraction des données"
   ]
  },
  {
   "cell_type": "code",
   "execution_count": 5,
   "metadata": {},
   "outputs": [],
   "source": [
    "base = './Données expérimentales/T' \n",
    "\n",
    "Privation = np.array([1,2,3])#,6,4,19,21]) # Les premières sont des données de test, les autres des données jugées peu pertinentes\n",
    "\n",
    "Data = []\n",
    "\n",
    "for i in range(4,len(os.listdir('./Données expérimentales/'))-1):\n",
    "\n",
    "    #if i in Privation:\n",
    "    #    continue\n",
    "    File = open(base+str(i)+'.txt')\n",
    "    data = np.array([ f.split(':') for f in File])\n",
    "\n",
    "    V,pH = np.asarray(data[:,3],dtype=float), np.asarray(data[:,5],dtype=float)\n",
    "\n",
    "    Data.append(pH)\n",
    "\n",
    "Data = np.array(Data)\n",
    "Labels = np.array([[[float(a) for a in line.split()] for line in open('./Données expérimentales/Labels.txt')][i] for i in range(len(os.listdir('./Données expérimentales/'))-2) if i not in Privation-1])"
   ]
  },
  {
   "cell_type": "code",
   "execution_count": 6,
   "metadata": {},
   "outputs": [],
   "source": [
    "pca = PCA(15)\n",
    "pca.fit(Data)\n",
    "DataTrain = pca.transform(Data)\n",
    "\n",
    "#X_train,X_test,Y_train, Y_test = train_test_split(DataTrain/14, Labels, test_size=0.2)\n",
    "\n",
    "X_train,X_test,Y_train, Y_test = train_test_split(DataTrain/max([max(DataTrain[:,i]) for i in range(DataTrain.shape[1])]), Labels, test_size=0.2)"
   ]
  },
  {
   "cell_type": "markdown",
   "metadata": {},
   "source": [
    "array([[0.2 , 0.3 , 0.3 , 0.2 ],\n",
    "       [0.25, 0.25, 0.25, 0.25],\n",
    "       [0.3 , 0.3 , 0.2 , 0.2 ],\n",
    "       [0.1 , 0.4 , 0.4 , 0.1 ]])"
   ]
  },
  {
   "cell_type": "markdown",
   "metadata": {},
   "source": [
    "# ANN"
   ]
  },
  {
   "cell_type": "markdown",
   "metadata": {},
   "source": [
    "## Initialisation"
   ]
  },
  {
   "cell_type": "code",
   "execution_count": 7,
   "metadata": {},
   "outputs": [],
   "source": [
    "Acides = ['acide_chloroacétique', 'acide_benzoique', 'acide_éthanoique', '4_aminophénol']\n",
    "\n",
    "Models_val = [0 for i in Acides]\n",
    "\n",
    "Histories = [None for i in Acides]"
   ]
  },
  {
   "cell_type": "code",
   "execution_count": 8,
   "metadata": {},
   "outputs": [],
   "source": [
    "Relu,Tan,Sig = Activation_Function(relu,relu_derivative,name='relu'),Activation_Function(tanh,tanh_derivative,name = 'tanh'),Activation_Function(sigmoid,sigmoid_derivative,name = 'sigmoid')"
   ]
  },
  {
   "cell_type": "markdown",
   "metadata": {},
   "source": [
    "## Entraînement"
   ]
  },
  {
   "cell_type": "code",
   "execution_count": null,
   "metadata": {},
   "outputs": [
    {
     "name": "stdout",
     "output_type": "stream",
     "text": [
      "[\u001b[32m================                                                                                    \u001b[0m]\n",
      "Testing combination for 4_aminophénol: Epochs=20000, Learning Rate=0.005, Momentum=0.6, Activation=relu\n"
     ]
    }
   ],
   "source": [
    "import numpy as np\n",
    "from itertools import product\n",
    "#np.random.seed(42)\n",
    "# Hyperparameter ranges\n",
    "i_size,o_size = 15,1 \n",
    "epoch_options =[8000,2000,20000]#[8000, 2000, 3000, 5000, 10000]# [8000, 10000,9000,7000]#, 30000], 35000, 40000]  # Possible values for epochs\n",
    "learning_rate_options = [0.0001, 0.001, 0.005]# 0.01, 0.05, 0.09, 0.1]  # Possible values for learning rates\n",
    "momentum_options = [0.5,0.2, 0.4, 0.6]  # Possible values for momentum\n",
    "h_size_options = [3,4,5,6,7,32] #[6]\n",
    "activation_options = [Tan,Sig,Relu]\n",
    "\n",
    "N_iter =  len(h_size_options)*len(epoch_options)*len(learning_rate_options)*len(momentum_options)*len(activation_options)\n",
    "\n",
    "# Store best parameters and scores for each acid\n",
    "best_params = {}\n",
    "best_scores = {}\n",
    "Models = [0 for i in range(len(Acides))]\n",
    "# Perform grid search for each acid\n",
    "for i, acid in enumerate(Acides):\n",
    "    print(f\"\\nTuning hyperparameters for acid: {acid}\")\n",
    "    \n",
    "    best_params[acid] = None\n",
    "    best_scores[acid] = -float('inf')#-float('inf')  # Use 'inf' because we are minimizing the loss\n",
    "    #first = True\n",
    "    # Grid search over all hyperparameter combinations\n",
    "    iteration = 0\n",
    "    for h_size, epochs, learning_rate, momentum,activation in product(h_size_options, epoch_options, learning_rate_options, momentum_options,activation_options):\n",
    "        clear_output(wait=True)\n",
    "        Loading(iteration/N_iter)\n",
    "        print(f\"Testing combination for {acid}: Epochs={epochs}, Learning Rate={learning_rate}, Momentum={momentum}, Activation={activation.name}\")\n",
    "        iteration+=1\n",
    "        #if first:\n",
    "        rng = RandomState(42)\n",
    "        #else:\n",
    "        #rng = np.random\n",
    "        # Initialize and train the model for the current acid\n",
    "        model = Network(input_size=i_size, output_size=o_size, hidden_size=h_size, Name=acid, random_state = rng,activation = activation)\n",
    "        history = model.train(\n",
    "            X_train,\n",
    "            np.array([[Y_train[j][i]] for j in range(len(Y_train))]),\n",
    "            epochs=epochs,\n",
    "            learning_rate=learning_rate,\n",
    "            momentum=momentum,\n",
    "            Training_Info = False,\n",
    "            train_steps=1000, \n",
    "            random_state = rng\n",
    "        )\n",
    "        \"\"\"\n",
    "        val_predictions = model.forward(X_test)\n",
    "        val_loss = np.mean((np.array([[Y_test[j][i]] for j in range(len(Y_test))]) - val_predictions.T) ** 2)\n",
    "        \n",
    "        # Keep track of the best hyperparameters for this acid\n",
    "        if val_loss < best_scores[acid]:\n",
    "            best_scores[acid] = val_loss\n",
    "            best_params[acid] = (epochs, learning_rate, momentum)\n",
    "        \"\"\"\n",
    "        # Evaluate the model on the validation set\n",
    "        current_accuracy = Accuracy(model,X_test,np.array([[Y_test[j][i]] for j in range(len(Y_test))]))\n",
    "        \n",
    "        \n",
    "            # Keep track of the best hyperparameters for this acid\n",
    "        if current_accuracy > best_scores[acid]:\n",
    "            best_scores[acid] = current_accuracy\n",
    "            best_params[acid] = (epochs, learning_rate, momentum, h_size,activation)\n",
    "            Models[i] = model\n",
    "            first = False\n",
    "    print(f\"Best Hyperparameters for {acid}: Epochs={best_params[acid][0]}, Learning Rate={best_params[acid][1]}, Momentum={best_params[acid][2]}, function={best_params[acid][4].name}\")\n",
    "    print(f\"Best Validation Loss for {acid}: {best_scores[acid]:.4f}\")\n",
    "    \n",
    "# Final results for all acids\n",
    "print(\"\\nFinal Best Hyperparameters for Each Acid:\")\n",
    "for acid in Acides:\n",
    "    print(f\"{acid}: Epochs={best_params[acid][0]}, Learning Rate={best_params[acid][1]}, Momentum={best_params[acid][2]}, Validation accuracy={best_scores[acid]:.4f}, h_size={best_params[acid][3]}, function={best_params[acid][4].name}\")\n"
   ]
  },
  {
   "cell_type": "markdown",
   "metadata": {},
   "source": [
    "## Résultats"
   ]
  },
  {
   "cell_type": "code",
   "execution_count": null,
   "metadata": {},
   "outputs": [
    {
     "name": "stdout",
     "output_type": "stream",
     "text": [
      "acide_chloroacétique: Epochs=8000, Learning Rate=0.001, Momentum=0.6, Validation accuracy=1.0080\n",
      "acide_benzoique: Epochs=8000, Learning Rate=5e-05, Momentum=0.2, Validation accuracy=0.6040\n",
      "acide_éthanoique: Epochs=8000, Learning Rate=0.0001, Momentum=0.2, Validation accuracy=1.0100\n",
      "4_aminophénol: Epochs=8000, Learning Rate=0.0001, Momentum=0.5, Validation accuracy=0.6040\n"
     ]
    }
   ],
   "source": [
    "for acid in Acides:\n",
    "    print(f\"{acid}: Epochs={best_params[acid][0]}, Learning Rate={best_params[acid][1]}, Momentum={best_params[acid][2]}, Validation accuracy={best_scores[acid]:.4f}\")"
   ]
  },
  {
   "cell_type": "code",
   "execution_count": null,
   "metadata": {},
   "outputs": [
    {
     "name": "stdout",
     "output_type": "stream",
     "text": [
      "[0.5, 0.27, 0.24, 0.23]vs[0.5  0.25 0.25 0.  ]\n",
      "[0.29, 0.27, 0.24, 0.23]vs[0.25 0.25 0.25 0.25]\n",
      "[0.2, 0.28, 0.28, 0.23]vs[0.2 0.2 0.3 0.3]\n",
      "[0.25, 0.27, 0.26, 0.23]vs[0.25 0.25 0.25 0.25]\n",
      "[0.31, 0.27, 0.3, 0.23]vs[0.3 0.2 0.3 0.2]\n"
     ]
    }
   ],
   "source": [
    "predictions, = np.array([Nw.forward(X_test) for Nw in Models]).T  \n",
    "\n",
    "i=0\n",
    "for pred in predictions:\n",
    "    print(str([float(round(pd,2)) for pd in pred]) + \"vs\" + str(Y_test[i])) \n",
    "    i +=1"
   ]
  },
  {
   "cell_type": "markdown",
   "metadata": {},
   "source": [
    "## Essais d'intrerprétation des données"
   ]
  },
  {
   "cell_type": "code",
   "execution_count": null,
   "metadata": {},
   "outputs": [
    {
     "name": "stdout",
     "output_type": "stream",
     "text": [
      "R² for column 1: 0.9643\n",
      "R² for column 2: -2.8944\n",
      "R² for column 3: 0.7479\n",
      "R² for column 4: -0.0905\n"
     ]
    }
   ],
   "source": [
    "\n",
    "# Predictions and actual values\n",
    "\n",
    "actual = Y_test.tolist()\n",
    "\n",
    "# Convert to numpy arrays\n",
    "actual = np.array(actual)\n",
    "\n",
    "# Compute R² for each column\n",
    "r2_scores = []\n",
    "for i in range(predictions.shape[1]):\n",
    "    y_pred = predictions[:, i]\n",
    "    y_true = actual[:, i]\n",
    "    \n",
    "    # Compute the mean of actual values\n",
    "    y_mean = np.mean(y_true)\n",
    "    \n",
    "    # Numerator: sum of squared residuals\n",
    "    numerator = np.sum((y_true - y_pred) ** 2)\n",
    "    \n",
    "    # Denominator: total sum of squares\n",
    "    denominator = np.sum((y_true - y_mean) ** 2)\n",
    "    \n",
    "    # R² computation\n",
    "    r2 = 1 - (numerator / denominator)\n",
    "    r2_scores.append(r2)\n",
    "\n",
    "# Print R² for each column\n",
    "for i, r2 in enumerate(r2_scores):\n",
    "    print(f\"R² for column {i + 1}: {r2:.4f}\")\n"
   ]
  },
  {
   "cell_type": "code",
   "execution_count": null,
   "metadata": {},
   "outputs": [
    {
     "data": {
      "image/png": "[encoded data removed]",
      "text/plain": [
       "<Figure size 640x480 with 1 Axes>"
      ]
     },
     "metadata": {},
     "output_type": "display_data"
    }
   ],
   "source": [
    "for i in range(len(predictions.T)):\n",
    "    plt.scatter(Y_test.T[i],predictions.T[i], marker='x',label = Acides[i])\n",
    "\n",
    "x = np.linspace(0,1,100)\n",
    "\n",
    "plt.plot(x,x, color = 'red')\n",
    "plt.plot(x[2:],(x-0.05)[2:], '--b')\n",
    "plt.plot(x,x+0.05, '--b')\n",
    "\n",
    "plt.xlim(0,0.85)\n",
    "plt.ylim(0,0.85)\n",
    "\n",
    "plt.ylabel('Prédictions')\n",
    "plt.xlabel('Concentrations réelles')\n",
    "\n",
    "plt.legend()\n",
    "plt.show()"
   ]
  },
  {
   "cell_type": "code",
   "execution_count": null,
   "metadata": {},
   "outputs": [],
   "source": []
  }
 ],
 "metadata": {
  "kernelspec": {
   "display_name": "SecEnv",
   "language": "python",
   "name": "python3"
  },
  "language_info": {
   "codemirror_mode": {
    "name": "ipython",
    "version": 3
   },
   "file_extension": ".py",
   "mimetype": "text/x-python",
   "name": "python",
   "nbconvert_exporter": "python",
   "pygments_lexer": "ipython3",
   "version": "3.11.11"
  }
 },
 "nbformat": 4,
 "nbformat_minor": 2
}
