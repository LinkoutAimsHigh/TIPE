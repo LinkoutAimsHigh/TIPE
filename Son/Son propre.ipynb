{
 "cells": [
  {
   "cell_type": "code",
   "execution_count": 1,
   "id": "6e68f085",
   "metadata": {},
   "outputs": [],
   "source": [
    "import numpy as np \n",
    "import matplotlib.pyplot as plt\n",
    "import os\n",
    "import scipy\n",
    "from sklearn.model_selection import train_test_split\n",
    "from sklearn.decomposition import PCA\n",
    "from IPython.display import clear_output"
   ]
  },
  {
   "cell_type": "markdown",
   "id": "c1414d9c",
   "metadata": {},
   "source": [
    "# fonctions utiles"
   ]
  },
  {
   "cell_type": "code",
   "execution_count": 10,
   "id": "c26d767d",
   "metadata": {},
   "outputs": [],
   "source": [
    "def Linearize_audio(aud_data):\n",
    "    \"\"\"\n",
    "    Cette fonction permet de fusionner deux entrées (enregistrement stéréo) en une seule si ce n'est pzs déhà un enregistrement mono\n",
    "    \"\"\"\n",
    "    if len(aud_data.shape)>1:\n",
    "        linear_audio = (aud_data[:,0]+aud_data[:,1])/2\n",
    "    else:\n",
    "        linear_audio = aud_data\n",
    "    \n",
    "    linear_audio = np.array(linear_audio)\n",
    "\n",
    "    msk = (abs(linear_audio[:])>max(linear_audio)*0.1)\n",
    "\n",
    "    return linear_audio[msk]\n",
    "\n",
    "def Spectrum_Treatment(data,cut=8):\n",
    "    \"\"\"\n",
    "    Transformée de Fourier, la variable cut permet d'isoler la partie intéressante du spectre\n",
    "    \"\"\"\n",
    "\n",
    "    N = len(data)\n",
    "    Y = np.fft.fft(data)\n",
    "    Y = abs(Y[:N//cut])\n",
    "    return Y\n",
    "\n",
    "def Accuracy(Nw,X,Y):\n",
    "    predictions = Nw.forward(X)\n",
    "    return round(np.mean((Y -predictions)**2 <= (0.05)**2),2) + 0.01*round(np.mean((Y -predictions)**2 <= (0.02)**2),2) #, np.mean([round(Y[i],1)==round(predictions[i],1) for i in range(len(Y))])\n",
    "\n",
    "def minuscules(String):\n",
    "    m1,m2 =ord('A'),ord('a')\n",
    "    dm = m2-m1\n",
    "    FS = ''\n",
    "    for s in String:\n",
    "        if ord(s)<m2:\n",
    "            FS = FS+chr(ord(s)+dm)\n",
    "        else:\n",
    "            FS = FS +s\n",
    "    return FS\n",
    "\n",
    "def Reverse(label):\n",
    "    for i in range(len(classes)):\n",
    "        if classes[i]==label:\n",
    "            return i"
   ]
  },
  {
   "cell_type": "markdown",
   "id": "45604594",
   "metadata": {},
   "source": [
    "# Le gros du traitement"
   ]
  },
  {
   "cell_type": "code",
   "execution_count": 11,
   "id": "3c49b3b1",
   "metadata": {},
   "outputs": [],
   "source": [
    "#Dimension parameters\n",
    "NbSegments = 50\n",
    "FreqHeight = 40\n",
    "#la partie qui se superpose\n",
    "Super = 0.5"
   ]
  },
  {
   "cell_type": "code",
   "execution_count": null,
   "id": "f69e2aff",
   "metadata": {},
   "outputs": [
    {
     "name": "stderr",
     "output_type": "stream",
     "text": [
      "C:\\Users\\arthu\\AppData\\Local\\Temp\\ipykernel_19644\\4161505000.py:11: WavFileWarning: Chunk (non-data) not understood, skipping it.\n",
      "  rate,aud_data = scipy.io.wavfile.read(IN+\"/\"+file)\n"
     ]
    },
    {
     "name": "stdout",
     "output_type": "stream",
     "text": [
      "passed one more :  1\n",
      "passed one more :  2\n"
     ]
    }
   ],
   "source": [
    "DATA = []\n",
    "LABELS = []\n",
    "\n",
    "i = 0\n",
    "cut = 8\n",
    "\n",
    "IN = \"Audio_Trainer\" # dossier contenant les données\n",
    "\n",
    "for file in os.listdir(IN):\n",
    "    \n",
    "    rate,aud_data = scipy.io.wavfile.read(IN+\"/\"+file)\n",
    "    aud_data = Linearize_audio(aud_data)\n",
    "\n",
    "    N = len(aud_data)\n",
    "\n",
    "    Seglen =N//NbSegments\n",
    "    Super_Seglen = round(Super*N)//NbSegments\n",
    "\n",
    "    Segments = [aud_data[i*Seglen:(i+1)*(Seglen)+Super_Seglen]  for i in range(NbSegments-1)] #if i<NbSegments-1 else aud_data[i*Seglen:(i+1)*(Seglen)] \n",
    "    Segments = np.array(Segments)\n",
    "\n",
    "    Ys = np.array([Spectrum_Treatment(data,cut) for data in Segments])\n",
    "\n",
    "    Max = max([max(y) for y in Ys])\n",
    "    Ys/=Max\n",
    "\n",
    "    if Ys.shape[1]<FreqHeight :\n",
    "        i+=1\n",
    "        print('passed one more : ',i)\n",
    "        continue\n",
    "\n",
    "    Seglen = len(Ys[0])//FreqHeight\n",
    "    Lines = np.array([[np.max(Y[i*Seglen:(i+1)*Seglen]) for i in range(FreqHeight)] for Y in Ys]).T\n",
    "    \"\"\"\n",
    "    plt.imshow(Lines[::-1,:],cmap=\"gray\")\n",
    "    plt.title(minuscules(file.split()[0]))\n",
    "    plt.savefig(\"Spectrum_Trainer/\"+file[:-3] +\"png\",bbox_inches='tight')\n",
    "    plt.close()\n",
    "    \"\"\"\n",
    "    DATA.append(Lines.flatten())\n",
    "    LABELS.append(minuscules(file.split()[0]))\n",
    "\n",
    "\n",
    "DATA = np.array(DATA)"
   ]
  },
  {
   "cell_type": "code",
   "execution_count": 5,
   "id": "52c2fa06",
   "metadata": {},
   "outputs": [],
   "source": [
    "#un bout de code bien compliqué pour obtenir les bons labels\n",
    "\n",
    "classes = []\n",
    "for l in LABELS:\n",
    "    if l not in classes:\n",
    "        classes.append(l)\n",
    "\n",
    "Numeric_classes = [i for i,j in enumerate(classes)]\n",
    "\n",
    "Labels = np.array([Reverse(l) for l in LABELS])"
   ]
  },
  {
   "cell_type": "code",
   "execution_count": 6,
   "id": "89e82607",
   "metadata": {},
   "outputs": [
    {
     "ename": "ValueError",
     "evalue": "With n_samples=0, test_size=0.2 and train_size=None, the resulting train set will be empty. Adjust any of the aforementioned parameters.",
     "output_type": "error",
     "traceback": [
      "\u001b[1;31m---------------------------------------------------------------------------\u001b[0m",
      "\u001b[1;31mValueError\u001b[0m                                Traceback (most recent call last)",
      "Cell \u001b[1;32mIn[6], line 1\u001b[0m\n\u001b[1;32m----> 1\u001b[0m X_train,X_test,Y_train, Y_test \u001b[38;5;241m=\u001b[39m train_test_split(DATA, Labels, test_size\u001b[38;5;241m=\u001b[39m\u001b[38;5;241m0.2\u001b[39m)\n",
      "File \u001b[1;32mc:\\Users\\arthu\\anaconda3\\envs\\SecEnv\\Lib\\site-packages\\sklearn\\utils\\_param_validation.py:216\u001b[0m, in \u001b[0;36mvalidate_params.<locals>.decorator.<locals>.wrapper\u001b[1;34m(*args, **kwargs)\u001b[0m\n\u001b[0;32m    210\u001b[0m \u001b[38;5;28;01mtry\u001b[39;00m:\n\u001b[0;32m    211\u001b[0m     \u001b[38;5;28;01mwith\u001b[39;00m config_context(\n\u001b[0;32m    212\u001b[0m         skip_parameter_validation\u001b[38;5;241m=\u001b[39m(\n\u001b[0;32m    213\u001b[0m             prefer_skip_nested_validation \u001b[38;5;129;01mor\u001b[39;00m global_skip_validation\n\u001b[0;32m    214\u001b[0m         )\n\u001b[0;32m    215\u001b[0m     ):\n\u001b[1;32m--> 216\u001b[0m         \u001b[38;5;28;01mreturn\u001b[39;00m func(\u001b[38;5;241m*\u001b[39margs, \u001b[38;5;241m*\u001b[39m\u001b[38;5;241m*\u001b[39mkwargs)\n\u001b[0;32m    217\u001b[0m \u001b[38;5;28;01mexcept\u001b[39;00m InvalidParameterError \u001b[38;5;28;01mas\u001b[39;00m e:\n\u001b[0;32m    218\u001b[0m     \u001b[38;5;66;03m# When the function is just a wrapper around an estimator, we allow\u001b[39;00m\n\u001b[0;32m    219\u001b[0m     \u001b[38;5;66;03m# the function to delegate validation to the estimator, but we replace\u001b[39;00m\n\u001b[0;32m    220\u001b[0m     \u001b[38;5;66;03m# the name of the estimator by the name of the function in the error\u001b[39;00m\n\u001b[0;32m    221\u001b[0m     \u001b[38;5;66;03m# message to avoid confusion.\u001b[39;00m\n\u001b[0;32m    222\u001b[0m     msg \u001b[38;5;241m=\u001b[39m re\u001b[38;5;241m.\u001b[39msub(\n\u001b[0;32m    223\u001b[0m         \u001b[38;5;124mr\u001b[39m\u001b[38;5;124m\"\u001b[39m\u001b[38;5;124mparameter of \u001b[39m\u001b[38;5;124m\\\u001b[39m\u001b[38;5;124mw+ must be\u001b[39m\u001b[38;5;124m\"\u001b[39m,\n\u001b[0;32m    224\u001b[0m         \u001b[38;5;124mf\u001b[39m\u001b[38;5;124m\"\u001b[39m\u001b[38;5;124mparameter of \u001b[39m\u001b[38;5;132;01m{\u001b[39;00mfunc\u001b[38;5;241m.\u001b[39m\u001b[38;5;18m__qualname__\u001b[39m\u001b[38;5;132;01m}\u001b[39;00m\u001b[38;5;124m must be\u001b[39m\u001b[38;5;124m\"\u001b[39m,\n\u001b[0;32m    225\u001b[0m         \u001b[38;5;28mstr\u001b[39m(e),\n\u001b[0;32m    226\u001b[0m     )\n",
      "File \u001b[1;32mc:\\Users\\arthu\\anaconda3\\envs\\SecEnv\\Lib\\site-packages\\sklearn\\model_selection\\_split.py:2851\u001b[0m, in \u001b[0;36mtrain_test_split\u001b[1;34m(test_size, train_size, random_state, shuffle, stratify, *arrays)\u001b[0m\n\u001b[0;32m   2848\u001b[0m arrays \u001b[38;5;241m=\u001b[39m indexable(\u001b[38;5;241m*\u001b[39marrays)\n\u001b[0;32m   2850\u001b[0m n_samples \u001b[38;5;241m=\u001b[39m _num_samples(arrays[\u001b[38;5;241m0\u001b[39m])\n\u001b[1;32m-> 2851\u001b[0m n_train, n_test \u001b[38;5;241m=\u001b[39m _validate_shuffle_split(\n\u001b[0;32m   2852\u001b[0m     n_samples, test_size, train_size, default_test_size\u001b[38;5;241m=\u001b[39m\u001b[38;5;241m0.25\u001b[39m\n\u001b[0;32m   2853\u001b[0m )\n\u001b[0;32m   2855\u001b[0m \u001b[38;5;28;01mif\u001b[39;00m shuffle \u001b[38;5;129;01mis\u001b[39;00m \u001b[38;5;28;01mFalse\u001b[39;00m:\n\u001b[0;32m   2856\u001b[0m     \u001b[38;5;28;01mif\u001b[39;00m stratify \u001b[38;5;129;01mis\u001b[39;00m \u001b[38;5;129;01mnot\u001b[39;00m \u001b[38;5;28;01mNone\u001b[39;00m:\n",
      "File \u001b[1;32mc:\\Users\\arthu\\anaconda3\\envs\\SecEnv\\Lib\\site-packages\\sklearn\\model_selection\\_split.py:2481\u001b[0m, in \u001b[0;36m_validate_shuffle_split\u001b[1;34m(n_samples, test_size, train_size, default_test_size)\u001b[0m\n\u001b[0;32m   2478\u001b[0m n_train, n_test \u001b[38;5;241m=\u001b[39m \u001b[38;5;28mint\u001b[39m(n_train), \u001b[38;5;28mint\u001b[39m(n_test)\n\u001b[0;32m   2480\u001b[0m \u001b[38;5;28;01mif\u001b[39;00m n_train \u001b[38;5;241m==\u001b[39m \u001b[38;5;241m0\u001b[39m:\n\u001b[1;32m-> 2481\u001b[0m     \u001b[38;5;28;01mraise\u001b[39;00m \u001b[38;5;167;01mValueError\u001b[39;00m(\n\u001b[0;32m   2482\u001b[0m         \u001b[38;5;124m\"\u001b[39m\u001b[38;5;124mWith n_samples=\u001b[39m\u001b[38;5;132;01m{}\u001b[39;00m\u001b[38;5;124m, test_size=\u001b[39m\u001b[38;5;132;01m{}\u001b[39;00m\u001b[38;5;124m and train_size=\u001b[39m\u001b[38;5;132;01m{}\u001b[39;00m\u001b[38;5;124m, the \u001b[39m\u001b[38;5;124m\"\u001b[39m\n\u001b[0;32m   2483\u001b[0m         \u001b[38;5;124m\"\u001b[39m\u001b[38;5;124mresulting train set will be empty. Adjust any of the \u001b[39m\u001b[38;5;124m\"\u001b[39m\n\u001b[0;32m   2484\u001b[0m         \u001b[38;5;124m\"\u001b[39m\u001b[38;5;124maforementioned parameters.\u001b[39m\u001b[38;5;124m\"\u001b[39m\u001b[38;5;241m.\u001b[39mformat(n_samples, test_size, train_size)\n\u001b[0;32m   2485\u001b[0m     )\n\u001b[0;32m   2487\u001b[0m \u001b[38;5;28;01mreturn\u001b[39;00m n_train, n_test\n",
      "\u001b[1;31mValueError\u001b[0m: With n_samples=0, test_size=0.2 and train_size=None, the resulting train set will be empty. Adjust any of the aforementioned parameters."
     ]
    }
   ],
   "source": [
    "X_train,X_test,Y_train, Y_test = train_test_split(DATA, Labels, test_size=0.2)"
   ]
  },
  {
   "cell_type": "markdown",
   "id": "f5e602f0",
   "metadata": {},
   "source": [
    "# Utilisation ici de tensorflow\n",
    "\n",
    "La documentation est très complète, pour faire qimple on utilise ici le modèle séquentiel pour faire l'ANN puis on l'entraine"
   ]
  },
  {
   "cell_type": "code",
   "execution_count": null,
   "id": "3092a10f",
   "metadata": {},
   "outputs": [],
   "source": [
    "import tensorflow as tf"
   ]
  },
  {
   "cell_type": "code",
   "execution_count": null,
   "id": "b0f4ab54",
   "metadata": {},
   "outputs": [
    {
     "ename": "NameError",
     "evalue": "name 'tf' is not defined",
     "output_type": "error",
     "traceback": [
      "\u001b[1;31m---------------------------------------------------------------------------\u001b[0m",
      "\u001b[1;31mNameError\u001b[0m                                 Traceback (most recent call last)",
      "Cell \u001b[1;32mIn[7], line 3\u001b[0m\n\u001b[0;32m      1\u001b[0m \u001b[38;5;66;03m# utilisation du réseau neuronal,  une configuration peut être {'epochs': 1000, 'First Node': ['relu', 512], 'Second Node': ['relu', 64], 'Third Node': ['tanh', 32.0]}\u001b[39;00m\n\u001b[1;32m----> 3\u001b[0m inputs \u001b[38;5;241m=\u001b[39m tf\u001b[38;5;241m.\u001b[39mkeras\u001b[38;5;241m.\u001b[39mInput(shape\u001b[38;5;241m=\u001b[39m(DATA\u001b[38;5;241m.\u001b[39mshape[\u001b[38;5;241m1\u001b[39m],))\n\u001b[0;32m      4\u001b[0m x \u001b[38;5;241m=\u001b[39m tf\u001b[38;5;241m.\u001b[39mkeras\u001b[38;5;241m.\u001b[39mlayers\u001b[38;5;241m.\u001b[39mDense(\u001b[38;5;241m256\u001b[39m,activation\u001b[38;5;241m=\u001b[39m\u001b[38;5;124m'\u001b[39m\u001b[38;5;124mtanh\u001b[39m\u001b[38;5;124m'\u001b[39m)(inputs)\n\u001b[0;32m      5\u001b[0m x \u001b[38;5;241m=\u001b[39m tf\u001b[38;5;241m.\u001b[39mkeras\u001b[38;5;241m.\u001b[39mlayers\u001b[38;5;241m.\u001b[39mDense(\u001b[38;5;241m128\u001b[39m,activation\u001b[38;5;241m=\u001b[39m\u001b[38;5;124m'\u001b[39m\u001b[38;5;124mtanh\u001b[39m\u001b[38;5;124m'\u001b[39m)(x)\n",
      "\u001b[1;31mNameError\u001b[0m: name 'tf' is not defined"
     ]
    }
   ],
   "source": [
    "# utilisation du réseau neuronal,  une configuration peut être {'epochs': 1000, 'First Node': ['relu', 512], 'Second Node': ['relu', 64], 'Third Node': ['tanh', 32.0]}\n",
    "\n",
    "inputs = tf.keras.Input(shape=(DATA.shape[1],))\n",
    "x = tf.keras.layers.Dense(256,activation='tanh')(inputs)\n",
    "x = tf.keras.layers.Dense(128,activation='tanh')(x)\n",
    "x = tf.keras.layers.Dense(64,activation='tanh')(x)\n",
    "outputs=tf.keras.layers.Dense(len(classes),activation=tf.nn.softmax)(x)\n",
    "\n",
    "model = tf.keras.Model(inputs=inputs,outputs=outputs)\n",
    "\n",
    "# on trouve aussi souvent l'optimizer Adam\n",
    "\n",
    "model.compile(loss = \"sparse_categorical_crossentropy\",optimizer=\"SGD\")"
   ]
  },
  {
   "cell_type": "code",
   "execution_count": 8,
   "id": "3fa4c4ef",
   "metadata": {},
   "outputs": [
    {
     "ename": "NameError",
     "evalue": "name 'model' is not defined",
     "output_type": "error",
     "traceback": [
      "\u001b[1;31m---------------------------------------------------------------------------\u001b[0m",
      "\u001b[1;31mNameError\u001b[0m                                 Traceback (most recent call last)",
      "Cell \u001b[1;32mIn[8], line 1\u001b[0m\n\u001b[1;32m----> 1\u001b[0m history \u001b[38;5;241m=\u001b[39m model\u001b[38;5;241m.\u001b[39mfit(X_train,Y_train,epochs\u001b[38;5;241m=\u001b[39m\u001b[38;5;241m1000\u001b[39m,verbose \u001b[38;5;241m=\u001b[39m \u001b[38;5;241m0\u001b[39m)\n",
      "\u001b[1;31mNameError\u001b[0m: name 'model' is not defined"
     ]
    }
   ],
   "source": [
    "history = model.fit(X_train,Y_train,epochs=1000,verbose = 0)"
   ]
  },
  {
   "cell_type": "code",
   "execution_count": 9,
   "id": "c1f74dae",
   "metadata": {},
   "outputs": [
    {
     "ename": "NameError",
     "evalue": "name 'model' is not defined",
     "output_type": "error",
     "traceback": [
      "\u001b[1;31m---------------------------------------------------------------------------\u001b[0m",
      "\u001b[1;31mNameError\u001b[0m                                 Traceback (most recent call last)",
      "Cell \u001b[1;32mIn[9], line 1\u001b[0m\n\u001b[1;32m----> 1\u001b[0m predictions \u001b[38;5;241m=\u001b[39m model\u001b[38;5;241m.\u001b[39mpredict(X_test)\n\u001b[0;32m      3\u001b[0m \u001b[38;5;28;01mfor\u001b[39;00m i \u001b[38;5;129;01min\u001b[39;00m \u001b[38;5;28mrange\u001b[39m(\u001b[38;5;28mlen\u001b[39m(X_test)):\n\u001b[0;32m      4\u001b[0m     \u001b[38;5;28mprint\u001b[39m(classes[np\u001b[38;5;241m.\u001b[39margmax(predictions[i])],classes[Y_test[i]])\n",
      "\u001b[1;31mNameError\u001b[0m: name 'model' is not defined"
     ]
    }
   ],
   "source": [
    "predictions = model.predict(X_test)\n",
    "\n",
    "for i in range(len(X_test)):\n",
    "    print(classes[np.argmax(predictions[i])],classes[Y_test[i]])"
   ]
  },
  {
   "cell_type": "code",
   "execution_count": null,
   "id": "997011d5",
   "metadata": {},
   "outputs": [],
   "source": [
    "# La \"précision du réseau\"\n",
    "\n",
    "print(np.mean([classes[np.argmax(predictions[i])]==classes[Y_test[i]] for i in range(len(X_test))]))"
   ]
  }
 ],
 "metadata": {
  "kernelspec": {
   "display_name": "SecEnv",
   "language": "python",
   "name": "python3"
  },
  "language_info": {
   "codemirror_mode": {
    "name": "ipython",
    "version": 3
   },
   "file_extension": ".py",
   "mimetype": "text/x-python",
   "name": "python",
   "nbconvert_exporter": "python",
   "pygments_lexer": "ipython3",
   "version": "3.11.11"
  }
 },
 "nbformat": 4,
 "nbformat_minor": 5
}
